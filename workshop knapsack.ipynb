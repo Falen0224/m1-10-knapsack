{
 "cells": [
  {
   "cell_type": "markdown",
   "metadata": {},
   "source": [
    "## Knapsack Problem\n",
    "\n",
    "The *knapsack problem*:  given a set of integers $S = \\{s_1, s_2, \\ldots, s_n\\}$ and a target number $T$, find a subset (i.e., knapsack) of $S$ which adds up exactly to $T$.  \n",
    "\n",
    "For example, if $S = \\{1,2,5, 9, 10\\}$, there is a subset that adds up to $T = 22$, but not to $T = 23$.  Complete the following tasks related to this problem."
   ]
  },
  {
   "cell_type": "markdown",
   "metadata": {},
   "source": [
    "# 1. \n",
    "\n",
    "Find a subset of $S = \\{1,2,5, 9, 10\\}$ with sum $T = 22$.  Explain the process (algorithm) you used mentally to find the subset.  Then apply the same process in an attempt to find a subset with sum $T = 23$.  \n",
    "\n",
    "How do you know there is no such subset?"
   ]
  },
  {
   "cell_type": "code",
   "execution_count": 1,
   "metadata": {},
   "outputs": [
    {
     "name": "stdout",
     "output_type": "stream",
     "text": [
      "[1, 2, 9, 10]\n",
      "None\n"
     ]
    }
   ],
   "source": [
    "def subsets(S, T):\n",
    "    n = len(S)\n",
    "    \"\"\"\n",
    "    Start by using algorithm to list out all possible subsets of S\n",
    "    \"\"\"\n",
    "    for i in range(1 << n):\n",
    "        SS = [S[j] for j in range(n) if (i & (1 << j))]\n",
    "        \"\"\"\n",
    "        Using the acquired subset, determine if the sum of the subset is equivalent to T\n",
    "        \"\"\"\n",
    "        if sum(SS) == T:\n",
    "            return SS\n",
    "\n",
    "S = [1,2,5,9,10]\n",
    "print(subsets(S, 22))\n",
    "print(subsets(S, 23)) ## this isn't possible as the subset to attain 22 is {1, 2, 9, 10}, 5 can't be add/subtracted to help"
   ]
  },
  {
   "cell_type": "markdown",
   "metadata": {
    "collapsed": true
   },
   "source": [
    "# 2.\n",
    "\n",
    "Consider the following possible algorithm for the knapsack problem, written in psuedocode: \n",
    "```python\n",
    "knapsack(S[], T):\n",
    "    K = empty\n",
    "    for each i < size(S)\n",
    "        if sum(K) + S[i] <= T, put S[i] into K\n",
    "    if sum(K) = T, return K, else return False.\n",
    "```\n",
    "**a)** Describe what this algorithm does in English.  \n",
    "\n",
    "**b)** Implement this algorithm in Python and run it on the $S$ and $T$ above.\n",
    "\n",
    "\n",
    "**c)** Prove that this algorithm is NOT correct.  That is, find a counterexample: a set $S$ and number $T$ for which there is a solution, but not one that the algorithm finds.\n",
    "\n",
    "**d)** Verify that this particular $S$ and $T$ does not give the right output when entered to your Python program."
   ]
  },
  {
   "cell_type": "markdown",
   "metadata": {},
   "source": [
    "## 2a\n",
    "take a placeholder K to represent your sum\n",
    "run through indexes smaller than the size of S\n",
    "one by one, add in your values from set S into your placeholder K up until your expected value T\n",
    "repeat until you get to your value T otherwise, return false \n",
    "false means the S does not have a subset which can add up to value K"
   ]
  },
  {
   "cell_type": "code",
   "execution_count": 2,
   "metadata": {},
   "outputs": [
    {
     "data": {
      "text/plain": [
       "False"
      ]
     },
     "execution_count": 2,
     "metadata": {},
     "output_type": "execute_result"
    }
   ],
   "source": [
    "## 2b\n",
    "def knapsack(S, T):\n",
    "    K = []\n",
    "    for i in range(len(S)):\n",
    "        if sum(K) + S[i] <= T:\n",
    "            K.append(S[i])\n",
    "        if sum(K) == T:\n",
    "            return K\n",
    "        else:\n",
    "            return False\n",
    "\n",
    "knapsack([1,2,5,9,10], 22)"
   ]
  },
  {
   "cell_type": "markdown",
   "metadata": {},
   "source": [
    "## 2c\n",
    "Seems the algorthim does not consider the possibility of using alternative options \n",
    "the algorithm only considers sum and append of values in the original set in order\n",
    "does not \"skip\" values or go out of order to determine the final possible sum T"
   ]
  },
  {
   "cell_type": "code",
   "execution_count": 3,
   "metadata": {},
   "outputs": [
    {
     "data": {
      "text/plain": [
       "False"
      ]
     },
     "execution_count": 3,
     "metadata": {},
     "output_type": "execute_result"
    }
   ],
   "source": [
    "## 2d\n",
    "knapsack([1,2,5,9,10], 5)"
   ]
  },
  {
   "cell_type": "markdown",
   "metadata": {},
   "source": [
    "# 3. \n",
    "\n",
    "Another try: What if you put the elements in the knapsack from largest to smallest?  Check that this too is not a correct algorithm."
   ]
  },
  {
   "cell_type": "code",
   "execution_count": 4,
   "metadata": {},
   "outputs": [
    {
     "data": {
      "text/plain": [
       "False"
      ]
     },
     "execution_count": 4,
     "metadata": {},
     "output_type": "execute_result"
    }
   ],
   "source": [
    "knapsack([10,9,5,2,1], 5)"
   ]
  },
  {
   "cell_type": "markdown",
   "metadata": {},
   "source": [
    "# 4.\n",
    "\n",
    "Describe a correct algorithm for the knapsack problem (that we haven't seen in class), both in English and in pseudocode.  Then implement the algorithm in Python.  Explain how you know your algorithm is correct (even if it might not be efficient)."
   ]
  },
  {
   "cell_type": "markdown",
   "metadata": {},
   "source": [
    "### Logic and Pseudocode\n",
    "Use an algorithm to list out subsets of the weights and then using the same algorithm to match a subset of the values based on the indices in the weight. Then compare the sum of the weight subsets with the bag size and only take values which match the bag size. Append the subsets of the values as well as sums to two lists accordingly. Finally, take the index with the maximum sum and use it to retrieve the items requirement for as well as the maximum sum for the knapsack.\n",
    "\n",
    "```python\n",
    "brutal_knapsack(bag_size,weights,values,n_items):\n",
    "    pot = empty\n",
    "    sums = empty\n",
    "    for each i < size(n_items)\n",
    "        SS = weights[j] for j in size(n_items) if (i & (1 << j))\n",
    "        KS = values[j] for j in size(n_items) if (i & (1 << j))\n",
    "        if sum(SS) <= bag_size, put KS into pot and sum(KS) into sums\n",
    "    print(\"items:\",pot[np.argmax(sums)],\"give a maximum value of\",sum(pot[np.argmax(sums)]))\n",
    "```\n",
    "    \n",
    "The algorithm is correct as it forcibly computes all possible subsets, even ones which will return a bad value. Then compares all possible results to the restrictions (bag_size) placed to remove all invalids. "
   ]
  },
  {
   "cell_type": "code",
   "execution_count": 5,
   "metadata": {},
   "outputs": [
    {
     "name": "stdout",
     "output_type": "stream",
     "text": [
      "items: [4, 5] give a maximum value of 9\n"
     ]
    }
   ],
   "source": [
    "def brutal_knapsack(bag_size, weights, values, n_items):\n",
    "    import numpy as np\n",
    "    pot = []\n",
    "    sums = []\n",
    "    for i in range(1 << n_items):\n",
    "        SS = [weights[j] for j in range(n_items) if (i & (1 << j))]\n",
    "        KS = [values[j] for j in range(n_items) if (i & (1 << j))]\n",
    "        if sum(SS) <= bag_size:\n",
    "            pot.append(KS)\n",
    "            sums.append(sum(KS))\n",
    "    print(\"items:\",pot[np.argmax(sums)],\"give a maximum value of\",sum(pot[np.argmax(sums)]))\n",
    "    \"\"\"\n",
    "    a simple 'return np.max(sums)' would provide the solution for the maximum of the knapsack. \n",
    "    This print provides the output with the items which would give that maximum value.\n",
    "    \"\"\"\n",
    "\n",
    "bag_size = 7\n",
    "weights = [2, 3, 4, 5]\n",
    "values = [3, 4, 5, 5]\n",
    "n_items = len(weights)\n",
    "\n",
    "brutal_knapsack(bag_size, weights, values, n_items)"
   ]
  },
  {
   "cell_type": "markdown",
   "metadata": {
    "collapsed": true
   },
   "source": [
    "# 5. Generating correct change\n",
    "\n",
    "Now, we will be making change using the fewest coins. \n",
    "\n",
    "Suppose you are a programmer for a vending machine manufacturer. Your company wants to streamline effort by giving out the fewest possible coins in change for each transaction. Suppose a customer puts in a dollar bill and purchases an item for 37 cents. What is the smallest number of coins you can use to make change? The answer is six coins: two quarters, one dime, and three pennies. \n",
    "\n",
    "How did we arrive at the answer of six coins? We start with the largest coin in our arsenal (a quarter) and use as many of those as possible, then we go to the next lowest coin value and use as many of those as possible. This is the greedy algorithm for change-making.\n",
    "\n",
    "**Question:** Write the greedy algorithm for change making.\n",
    "\n",
    "The input is the amount of change to generate (in pennies) and a list of coin sizes (in pennies)\n",
    "\n",
    "The output is the minimum number of coins to gener\n",
    "\n",
    "```\n",
    "# buys with 1 dollar for 37 pennies\n",
    "# Second argument says we can give quarters, dimes, nickels and pennies\n",
    "make_change(100 - 37, [25, 10, 5, 1])\n",
    "\n",
    "# 2 quarters, one dime, and three pennies\n",
    "output --> 6 # Output would be equivalent to the choices [2, 1, 0, 3]\n",
    "```"
   ]
  },
  {
   "cell_type": "code",
   "execution_count": 6,
   "metadata": {},
   "outputs": [
    {
     "name": "stdout",
     "output_type": "stream",
     "text": [
      "Your change is 6 coins: 2 quarter(s), 1 dime(s), 0 nickel(s), and 3 pennies\n",
      "You still owe 37 cents.\n",
      "You gave exact change, yay!\n"
     ]
    }
   ],
   "source": [
    "def make_change(remain, coins):\n",
    "    change = []\n",
    "    coins_count = []\n",
    "    if remain < 0:\n",
    "        print(\"You still owe\", abs(remain), \"cents.\")\n",
    "    elif remain == 0:\n",
    "        print(\"You gave exact change, yay!\")\n",
    "    else:\n",
    "        for i in range(len(coins)):\n",
    "            while remain >= coins[i]:\n",
    "                remain -= coins[i]\n",
    "                change.append(coins[i])\n",
    "        print(\"Your change is\", len(change),\"coins:\", change.count(coins[0]),\"quarter(s),\",\n",
    "              change.count(coins[1]),\"dime(s),\",\n",
    "              change.count(coins[2]),\"nickel(s), and\",\n",
    "              change.count(coins[3]),\"pennies\")\n",
    "\n",
    "make_change(100 - 37, [25, 10, 5, 1])\n",
    "make_change(100 - 137, [25, 10, 5, 1])\n",
    "make_change(100 - 100, [25, 10, 5, 1])"
   ]
  },
  {
   "cell_type": "markdown",
   "metadata": {},
   "source": [
    "# 6 Recursive change\n",
    "\n",
    "Write the greedy change making algorithm using recursion"
   ]
  },
  {
   "cell_type": "code",
   "execution_count": 7,
   "metadata": {},
   "outputs": [
    {
     "data": {
      "text/plain": [
       "6"
      ]
     },
     "execution_count": 7,
     "metadata": {},
     "output_type": "execute_result"
    }
   ],
   "source": [
    "def recursive_change(remain, coins):\n",
    "    def recursive_coins(i, num):\n",
    "        if num == 0:\n",
    "            return 0\n",
    "        elif i == -1 or num < 0:\n",
    "            return float('inf')\n",
    "        else:\n",
    "            return min(recursive_coins(i-1, num), 1 + recursive_coins(i, num-coins[i]))\n",
    "    return recursive_coins(len(coins)-1, remain)\n",
    "\n",
    "recursive_change(100 - 37, [25, 10, 5, 1])"
   ]
  },
  {
   "cell_type": "markdown",
   "metadata": {},
   "source": [
    "# 7 Dynamic Programming Change making\n",
    "\n",
    "Write a solution to the change making problem using dynamic programming.\n",
    "\n",
    "**Hint:** Start with making change for one cent and systematically work its way up to the amount of change we require. This guarantees us that at each step of the algorithm we already know the minimum number of coins needed to make change for any smaller amount. Keep a memoized table of results for each step working up to the amount of change you need to generate."
   ]
  },
  {
   "cell_type": "code",
   "execution_count": 8,
   "metadata": {},
   "outputs": [
    {
     "data": {
      "text/plain": [
       "6"
      ]
     },
     "execution_count": 8,
     "metadata": {},
     "output_type": "execute_result"
    }
   ],
   "source": [
    "def dynamic_change(remain, coins):\n",
    "    m, n = len(coins)+1, remain+1\n",
    "    table = [[0] * n for x in range(m)]\n",
    "    for j in range(1, n):\n",
    "        table[0][j] = float('inf')\n",
    "    for i in range(1, m):\n",
    "        for j in range(1, n):\n",
    "            aC = table[i][j - coins[i-1]] if j - coins[i-1] >= 0 else float('inf')\n",
    "            table[i][j] = min(table[i-1][j], 1 + aC)\n",
    "    return table[m-1][n-1]\n",
    "\n",
    "dynamic_change(100 - 37, [25, 10, 5, 1])"
   ]
  },
  {
   "cell_type": "code",
   "execution_count": null,
   "metadata": {},
   "outputs": [],
   "source": []
  }
 ],
 "metadata": {
  "kernelspec": {
   "display_name": "Python 3",
   "language": "python",
   "name": "python3"
  },
  "language_info": {
   "codemirror_mode": {
    "name": "ipython",
    "version": 3
   },
   "file_extension": ".py",
   "mimetype": "text/x-python",
   "name": "python",
   "nbconvert_exporter": "python",
   "pygments_lexer": "ipython3",
   "version": "3.8.3"
  }
 },
 "nbformat": 4,
 "nbformat_minor": 1
}
