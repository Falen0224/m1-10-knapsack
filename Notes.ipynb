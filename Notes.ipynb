{
 "cells": [
  {
   "cell_type": "code",
   "execution_count": 4,
   "metadata": {},
   "outputs": [
    {
     "data": {
      "text/plain": [
       "9"
      ]
     },
     "execution_count": 4,
     "metadata": {},
     "output_type": "execute_result"
    }
   ],
   "source": [
    "def knapsack_recursive(bag_size, weights, values, n_items):\n",
    "    # Base case: nothing left to do\n",
    "    if n_items == 0 or bag_size == 0:\n",
    "        return 0\n",
    "    # Base case: last item doesn't fit\n",
    "    if weights[n_items - 1] > bag_size:\n",
    "        # Can't include item\n",
    "        return knapsack_recursive(bag_size, weights, values, n_items-1)\n",
    "    # Otherwise, return max of recursion solution\n",
    "    \n",
    "    # Value of item not included\n",
    "    left_side = knapsack_recursive(bag_size, weights, values, n_items-1)\n",
    "    # Value of item being included\n",
    "    right_side = (\n",
    "        values[n_items-1]\n",
    "        + knapsack_recursive(bag_size-weights[n_items-1], weights,\n",
    "                            values, n_items-1)\n",
    "    )\n",
    "    return max(left_side, right_side)\n",
    "\n",
    "bag_size = 7\n",
    "weights = [2, 3, 4, 5]\n",
    "values = [3, 4, 5, 5]\n",
    "\n",
    "knapsack_recursive(bag_size, weights, values, len(weights))"
   ]
  },
  {
   "cell_type": "code",
   "execution_count": 5,
   "metadata": {},
   "outputs": [],
   "source": [
    "import numpy as np\n",
    "\n",
    "weights = [2, 3, 3, 4, 6]\n",
    "values = [1, 2, 5, 9, 4]\n",
    "bag_size = 10\n",
    "\n",
    "def knapsack(M, n, m, v):\n",
    "    #initialize memorization table\n",
    "    d = np.zeros(M+1, n+1)\n",
    "    \n",
    "    #start considering 1, 2, ... items\n",
    "    #actual index of the item is i-1\n",
    "    for i in range(1, n+1):\n",
    "        # if item is heavier than capacity\n",
    "        if m[i-1] > j:\n",
    "            # take best value previous in table\n",
    "            d[i ,j] = d[i-1, j]\n",
    "        else:\n",
    "            d[i, j] = max(\n",
    "                #don't include item - take previous best\n",
    "                d[i-1, j],\n",
    "                v[i-1] + d[i-1, j-m[i-1]]\n",
    "            )\n",
    "    return d[n, M]\n"
   ]
  },
  {
   "cell_type": "code",
   "execution_count": null,
   "metadata": {},
   "outputs": [],
   "source": []
  }
 ],
 "metadata": {
  "kernelspec": {
   "display_name": "Python 3",
   "language": "python",
   "name": "python3"
  },
  "language_info": {
   "codemirror_mode": {
    "name": "ipython",
    "version": 3
   },
   "file_extension": ".py",
   "mimetype": "text/x-python",
   "name": "python",
   "nbconvert_exporter": "python",
   "pygments_lexer": "ipython3",
   "version": "3.8.3"
  }
 },
 "nbformat": 4,
 "nbformat_minor": 4
}
